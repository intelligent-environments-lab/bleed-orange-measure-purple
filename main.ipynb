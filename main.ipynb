{
 "cells": [
  {
   "cell_type": "markdown",
   "metadata": {},
   "source": [
    "# **Main.ipynb: a jupyter notebook to bring everything in one place**\n",
    "\n"
   ]
  },
  {
   "cell_type": "markdown",
   "metadata": {},
   "source": [
    "Note: you can skip some steps if the output files are already present in the repo."
   ]
  },
  {
   "cell_type": "markdown",
   "metadata": {},
   "source": [
    "## **PurpleAir Data Retrieval & Processing**\n",
    "---"
   ]
  },
  {
   "cell_type": "markdown",
   "metadata": {},
   "source": [
    "## PurpleAir\n",
    "### First download the data from thingspeak:\n",
    " - Files will be saved as csvs to the \"data/raw/purpleair\" directory\n",
    "   - Intended to generate files identical to those from PurpleAir's website, but much faster\n",
    " - You can skip this step since the csvs have already been committed to the directory"
   ]
  },
  {
   "cell_type": "code",
   "execution_count": 2,
   "metadata": {},
   "outputs": [
    {
     "name": "stdout",
     "output_type": "stream",
     "text": [
      "Accessing 720 urls with async...Done\n",
      "Accessing 720 urls with async...Done\n"
     ]
    }
   ],
   "source": [
    "import src.data.purpleair_data_retriever as pdr\n",
    "\n",
    "\n",
    "pdr.main(start='2019-1-1', end='2020-6-1', channel='primaryA', save_location='data/raw/purpleair')\n",
    "pdr.main(start='2019-1-1', end='2020-6-1', channel='primaryB', save_location='data/raw/purpleair/B')"
   ]
  },
  {
   "cell_type": "markdown",
   "metadata": {},
   "source": [
    "### CSV to parquet\n",
    "Then, we will transform the csvs into parquet files and make some other data structure or data type changes to make it easier to use. No data will be lost or removed.\n",
    " - Input csv files from: 'data/raw/purpleair'; output parquet files to: 'data/interim/purpleair'"
   ]
  },
  {
   "cell_type": "code",
   "execution_count": null,
   "metadata": {},
   "outputs": [],
   "source": [
    "import src.data.purpleair_raw_cleaner as pc\n",
    "\n",
    "pc.main(path='data/raw/purpleair', save_location='data/interim/PurpleAir_realtime.parquet')\n",
    "pc.main(path='data/raw/purpleair/B', save_location='data/interim/PurpleAir_B_realtime.parquet')\n"
   ]
  },
  {
   "cell_type": "markdown",
   "metadata": {},
   "source": [
    "### Resample and remove outliers"
   ]
  },
  {
   "cell_type": "code",
   "execution_count": null,
   "metadata": {},
   "outputs": [],
   "source": [
    "import src.data.purpleair_outlier_remover as por\n",
    "\n",
    "por.main(A_file='data/interim/PurpleAir_realtime.parquet',\n",
    "         B_file='data/interim/PurpleAir_B_realtime.parquet',\n",
    "         save_file='data/processed/PurpleAir_daily.parquet',\n",
    "         freq='D')"
   ]
  },
  {
   "cell_type": "code",
   "execution_count": null,
   "metadata": {},
   "outputs": [],
   "source": []
  }
 ],
 "metadata": {
  "kernelspec": {
   "display_name": "Python 3 (ipykernel)",
   "language": "python",
   "name": "python3"
  },
  "language_info": {
   "codemirror_mode": {
    "name": "ipython",
    "version": 3
   },
   "file_extension": ".py",
   "mimetype": "text/x-python",
   "name": "python",
   "nbconvert_exporter": "python",
   "pygments_lexer": "ipython3",
   "version": "3.8.10"
  }
 },
 "nbformat": 4,
 "nbformat_minor": 4
}
