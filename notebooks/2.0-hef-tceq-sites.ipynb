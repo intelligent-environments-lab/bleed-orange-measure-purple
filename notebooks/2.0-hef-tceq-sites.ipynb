{
 "cells": [
  {
   "cell_type": "markdown",
   "metadata": {},
   "source": [
    "<h1>TCEQ Site Drawing</h1>\n",
    "\n",
    "This notebook takes the GPS coordinates from the TCEQ monitoring sites, plots them on a map, and colors them with the relvant metrics measured at those locations."
   ]
  },
  {
   "cell_type": "code",
   "execution_count": 20,
   "metadata": {},
   "outputs": [],
   "source": [
    "import matplotlib.pyplot as plt\n",
    "import numpy as np\n",
    "import pandas as pd"
   ]
  },
  {
   "cell_type": "markdown",
   "metadata": {},
   "source": [
    "## Example Pie-Chart Markers\n",
    "Code is taken from [here](https://matplotlib.org/3.1.0/gallery/lines_bars_and_markers/scatter_piecharts.html) and helps to create pie-chart markers similar to what the TCEQ does for their ArcGIS maps. "
   ]
  },
  {
   "cell_type": "code",
   "execution_count": 58,
   "metadata": {},
   "outputs": [
    {
     "data": {
      "image/png": "[encoded data removed]",
      "text/plain": [
       "<Figure size 432x288 with 1 Axes>"
      ]
     },
     "metadata": {
      "needs_background": "light"
     },
     "output_type": "display_data"
    }
   ],
   "source": [
    "# first define the ratios\n",
    "r1 = 0.5       # 20%\n",
    "\n",
    "# define some sizes of the scatter marker\n",
    "sizes = np.array([60, 80, 120])\n",
    "\n",
    "# calculate the points of the first pie marker\n",
    "# these are just the origin (0, 0) + some (cos, sin) points on a circle\n",
    "x1 = np.cos(2 * np.pi * np.linspace(0, r1))\n",
    "y1 = np.sin(2 * np.pi * np.linspace(0, r1))\n",
    "xy1 = np.row_stack([[0, 0], np.column_stack([x1, y1])])\n",
    "s1 = np.abs(xy1).max()\n",
    "\n",
    "x2 = np.cos(2 * np.pi * np.linspace(r1, 1))\n",
    "y2 = np.sin(2 * np.pi * np.linspace(r1, 1))\n",
    "xy2 = np.row_stack([[0, 0], np.column_stack([x2, y2])])\n",
    "s2 = np.abs(xy2).max()\n",
    "\n",
    "fig, ax = plt.subplots()\n",
    "ax.scatter(range(1), range(1), marker=xy1, s=500, facecolor='yellow')\n",
    "ax.scatter(range(1), range(1), marker=xy2, s=500, facecolor='red')\n",
    "\n",
    "plt.show()\n",
    "plt.close()"
   ]
  },
  {
   "cell_type": "markdown",
   "metadata": {},
   "source": [
    "## Creating the Map"
   ]
  },
  {
   "cell_type": "code",
   "execution_count": 1,
   "metadata": {},
   "outputs": [
    {
     "ename": "NameError",
     "evalue": "name 'plt' is not defined",
     "output_type": "error",
     "traceback": [
      "\u001b[0;31m---------------------------------------------------------------------------\u001b[0m",
      "\u001b[0;31mNameError\u001b[0m                                 Traceback (most recent call last)",
      "\u001b[0;32m<ipython-input-1-3efe02477123>\u001b[0m in \u001b[0;36m<module>\u001b[0;34m\u001b[0m\n\u001b[1;32m      6\u001b[0m \u001b[0mx_width\u001b[0m \u001b[0;34m=\u001b[0m \u001b[0mBBox\u001b[0m\u001b[0;34m[\u001b[0m\u001b[0;36m1\u001b[0m\u001b[0;34m]\u001b[0m\u001b[0;34m-\u001b[0m\u001b[0mBBox\u001b[0m\u001b[0;34m[\u001b[0m\u001b[0;36m0\u001b[0m\u001b[0;34m]\u001b[0m\u001b[0;34m\u001b[0m\u001b[0m\n\u001b[1;32m      7\u001b[0m \u001b[0my_width\u001b[0m \u001b[0;34m=\u001b[0m \u001b[0mBBox\u001b[0m\u001b[0;34m[\u001b[0m\u001b[0;36m3\u001b[0m\u001b[0;34m]\u001b[0m\u001b[0;34m-\u001b[0m\u001b[0mBBox\u001b[0m\u001b[0;34m[\u001b[0m\u001b[0;36m2\u001b[0m\u001b[0;34m]\u001b[0m\u001b[0;34m\u001b[0m\u001b[0m\n\u001b[0;32m----> 8\u001b[0;31m \u001b[0maustin_m\u001b[0m \u001b[0;34m=\u001b[0m \u001b[0mplt\u001b[0m\u001b[0;34m.\u001b[0m\u001b[0mimread\u001b[0m\u001b[0;34m(\u001b[0m\u001b[0;34m'../images/tceq_map.png'\u001b[0m\u001b[0;34m)\u001b[0m\u001b[0;34m\u001b[0m\u001b[0m\n\u001b[0m\u001b[1;32m      9\u001b[0m \u001b[0mfig\u001b[0m\u001b[0;34m,\u001b[0m \u001b[0max\u001b[0m \u001b[0;34m=\u001b[0m \u001b[0mplt\u001b[0m\u001b[0;34m.\u001b[0m\u001b[0msubplots\u001b[0m\u001b[0;34m(\u001b[0m\u001b[0mfigsize\u001b[0m \u001b[0;34m=\u001b[0m \u001b[0;34m(\u001b[0m\u001b[0;36m10\u001b[0m\u001b[0;34m,\u001b[0m\u001b[0;36m10\u001b[0m\u001b[0;34m)\u001b[0m\u001b[0;34m)\u001b[0m\u001b[0;34m\u001b[0m\u001b[0m\n\u001b[1;32m     10\u001b[0m \u001b[0;31m# plotting points\u001b[0m\u001b[0;34m\u001b[0m\u001b[0;34m\u001b[0m\u001b[0m\n",
      "\u001b[0;31mNameError\u001b[0m: name 'plt' is not defined"
     ]
    }
   ],
   "source": [
    "# setting perimeter bounds\n",
    "BBox = (-97.7694,-97.6637,30.2051,30.3741)\n",
    "# stations are [Austin Webberville Road, St. Edwards, Austin N I-35]\n",
    "lats = [30.280107498168945,30.2385208,30.3538600]\n",
    "longs = [-97.6800537109375,-97.7504602,-97.6916600]\n",
    "x_width = BBox[1]-BBox[0]\n",
    "y_width = BBox[3]-BBox[2]\n",
    "austin_m = plt.imread('../images/tceq_map.png')\n",
    "fig, ax = plt.subplots(figsize = (10,10))\n",
    "# plotting points\n",
    "ax.scatter(longs[0], lats[0], zorder=1, alpha= 1, c='yellow', edgecolors='black', s=200,label='PM$_{2.5}$')\n",
    "ax.scatter(longs[1], lats[1], zorder=1, alpha= 1, c='lightblue', edgecolors='black', s=200, label='O$_3$')\n",
    "ax.scatter(longs[2], lats[2], marker=xy1, zorder=10, s=200, facecolor='yellow', edgecolors='black')\n",
    "ax.scatter(longs[2], lats[2], s=200, facecolor='red', edgecolors='black',label='NO$_x$')\n",
    "# Adding text\n",
    "station_nos = ['171','1605','1068']\n",
    "station_names = ['Austin Webberville Road','St. Edward\\'s University','Austin N I-35']\n",
    "for i in range(3):\n",
    "    if i == 0:\n",
    "        t = ax.text(longs[i]-0.02*x_width,lats[i]+0.02*y_width,station_nos[i]+'\\n'+station_names[i],ha='right')\n",
    "    else:\n",
    "        t = ax.text(longs[i]+0.02*x_width,lats[i]+0.02*y_width,station_nos[i]+'\\n'+station_names[i])\n",
    "        \n",
    "    t.set_bbox(dict(facecolor='white', alpha=0.5, edgecolor='black'))\n",
    "# formatting remainder\n",
    "ax.set_xlim(BBox[0],BBox[1])\n",
    "ax.set_ylim(BBox[2],BBox[3])\n",
    "ax.set_yticks([])\n",
    "ax.set_xticks([])\n",
    "ax.imshow(austin_m, zorder=0, extent = BBox, aspect= 'equal')\n",
    "ax.legend(loc='upper left')\n",
    "# removing blurred austin\n",
    "t = ax.text(longs[1],30.27,'Austin',fontsize=16)\n",
    "t.set_bbox(dict(facecolor='white', alpha=0.7, edgecolor='black'))\n",
    "\n",
    "plt.savefig('../images/tceq_sites.pdf',bbox_inches='tight')\n",
    "plt.show()\n",
    "plt.close()"
   ]
  },
  {
   "cell_type": "code",
   "execution_count": null,
   "metadata": {},
   "outputs": [],
   "source": []
  }
 ],
 "metadata": {
  "kernelspec": {
   "display_name": "Python 3",
   "language": "python",
   "name": "python3"
  },
  "language_info": {
   "codemirror_mode": {
    "name": "ipython",
    "version": 3
   },
   "file_extension": ".py",
   "mimetype": "text/x-python",
   "name": "python",
   "nbconvert_exporter": "python",
   "pygments_lexer": "ipython3",
   "version": "3.7.0"
  }
 },
 "nbformat": 4,
 "nbformat_minor": 4
}
