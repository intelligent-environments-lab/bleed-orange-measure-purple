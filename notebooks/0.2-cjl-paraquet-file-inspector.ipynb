{
 "cells": [
  {
   "cell_type": "markdown",
   "metadata": {},
   "source": [
    "# Check Parquet Files"
   ]
  },
  {
   "cell_type": "code",
   "execution_count": 1,
   "metadata": {},
   "outputs": [],
   "source": [
    "import pandas as pd"
   ]
  },
  {
   "cell_type": "code",
   "execution_count": 8,
   "metadata": {},
   "outputs": [],
   "source": [
    "data = pd.read_feather('../data/processed/purpleair/PA_combined_hourly_average.feather')"
   ]
  },
  {
   "cell_type": "code",
   "execution_count": 13,
   "metadata": {},
   "outputs": [
    {
     "data": {
      "text/html": [
       "<div>\n",
       "<style scoped>\n",
       "    .dataframe tbody tr th:only-of-type {\n",
       "        vertical-align: middle;\n",
       "    }\n",
       "\n",
       "    .dataframe tbody tr th {\n",
       "        vertical-align: top;\n",
       "    }\n",
       "\n",
       "    .dataframe thead th {\n",
       "        text-align: right;\n",
       "    }\n",
       "</style>\n",
       "<table border=\"1\" class=\"dataframe\">\n",
       "  <thead>\n",
       "    <tr style=\"text-align: right;\">\n",
       "      <th></th>\n",
       "      <th>Time</th>\n",
       "      <th>PM1.0 CF1 (ug/m3)</th>\n",
       "      <th>PM2.5 CF1 (ug/m3)</th>\n",
       "      <th>PM10.0 CF1 (ug/m3)</th>\n",
       "      <th>Temperature (F)</th>\n",
       "      <th>Humidity(%)</th>\n",
       "      <th>PM2.5 (ug/m3)</th>\n",
       "    </tr>\n",
       "  </thead>\n",
       "  <tbody>\n",
       "    <tr>\n",
       "      <th>0</th>\n",
       "      <td>2019-12-31 21:00:00-06:00</td>\n",
       "      <td>15.730940</td>\n",
       "      <td>22.294216</td>\n",
       "      <td>24.328758</td>\n",
       "      <td>60.783980</td>\n",
       "      <td>24.910417</td>\n",
       "      <td>22.238216</td>\n",
       "    </tr>\n",
       "    <tr>\n",
       "      <th>1</th>\n",
       "      <td>2019-12-31 22:00:00-06:00</td>\n",
       "      <td>15.858739</td>\n",
       "      <td>22.429706</td>\n",
       "      <td>24.440027</td>\n",
       "      <td>60.939641</td>\n",
       "      <td>25.757608</td>\n",
       "      <td>22.320869</td>\n",
       "    </tr>\n",
       "    <tr>\n",
       "      <th>2</th>\n",
       "      <td>2019-12-31 23:00:00-06:00</td>\n",
       "      <td>8.903875</td>\n",
       "      <td>12.722563</td>\n",
       "      <td>13.967271</td>\n",
       "      <td>60.212500</td>\n",
       "      <td>26.606250</td>\n",
       "      <td>12.722563</td>\n",
       "    </tr>\n",
       "    <tr>\n",
       "      <th>3</th>\n",
       "      <td>2020-01-01 00:00:00-06:00</td>\n",
       "      <td>14.724672</td>\n",
       "      <td>21.277149</td>\n",
       "      <td>23.292700</td>\n",
       "      <td>59.635781</td>\n",
       "      <td>26.973178</td>\n",
       "      <td>20.804751</td>\n",
       "    </tr>\n",
       "    <tr>\n",
       "      <th>4</th>\n",
       "      <td>2020-01-01 01:00:00-06:00</td>\n",
       "      <td>10.889562</td>\n",
       "      <td>15.821396</td>\n",
       "      <td>17.444729</td>\n",
       "      <td>59.489583</td>\n",
       "      <td>27.320833</td>\n",
       "      <td>15.758292</td>\n",
       "    </tr>\n",
       "    <tr>\n",
       "      <th>...</th>\n",
       "      <td>...</td>\n",
       "      <td>...</td>\n",
       "      <td>...</td>\n",
       "      <td>...</td>\n",
       "      <td>...</td>\n",
       "      <td>...</td>\n",
       "      <td>...</td>\n",
       "    </tr>\n",
       "    <tr>\n",
       "      <th>4382</th>\n",
       "      <td>2020-07-01 12:00:00-05:00</td>\n",
       "      <td>17.547250</td>\n",
       "      <td>25.290890</td>\n",
       "      <td>27.664108</td>\n",
       "      <td>93.517077</td>\n",
       "      <td>46.911002</td>\n",
       "      <td>25.194750</td>\n",
       "    </tr>\n",
       "    <tr>\n",
       "      <th>4383</th>\n",
       "      <td>2020-07-01 13:00:00-05:00</td>\n",
       "      <td>14.817381</td>\n",
       "      <td>21.433833</td>\n",
       "      <td>23.736190</td>\n",
       "      <td>96.647619</td>\n",
       "      <td>43.111905</td>\n",
       "      <td>21.411405</td>\n",
       "    </tr>\n",
       "    <tr>\n",
       "      <th>4384</th>\n",
       "      <td>2020-07-01 14:00:00-05:00</td>\n",
       "      <td>12.724690</td>\n",
       "      <td>18.767881</td>\n",
       "      <td>20.951929</td>\n",
       "      <td>98.030952</td>\n",
       "      <td>41.385714</td>\n",
       "      <td>18.767167</td>\n",
       "    </tr>\n",
       "    <tr>\n",
       "      <th>4385</th>\n",
       "      <td>2020-07-01 15:00:00-05:00</td>\n",
       "      <td>12.116529</td>\n",
       "      <td>18.137062</td>\n",
       "      <td>20.352160</td>\n",
       "      <td>99.443268</td>\n",
       "      <td>39.615353</td>\n",
       "      <td>18.128685</td>\n",
       "    </tr>\n",
       "    <tr>\n",
       "      <th>4386</th>\n",
       "      <td>2020-07-01 16:00:00-05:00</td>\n",
       "      <td>11.927857</td>\n",
       "      <td>18.197143</td>\n",
       "      <td>20.441429</td>\n",
       "      <td>101.571429</td>\n",
       "      <td>37.214286</td>\n",
       "      <td>18.197143</td>\n",
       "    </tr>\n",
       "  </tbody>\n",
       "</table>\n",
       "<p>4387 rows × 7 columns</p>\n",
       "</div>"
      ],
      "text/plain": [
       "                          Time  PM1.0 CF1 (ug/m3)  PM2.5 CF1 (ug/m3)  \\\n",
       "0    2019-12-31 21:00:00-06:00          15.730940          22.294216   \n",
       "1    2019-12-31 22:00:00-06:00          15.858739          22.429706   \n",
       "2    2019-12-31 23:00:00-06:00           8.903875          12.722563   \n",
       "3    2020-01-01 00:00:00-06:00          14.724672          21.277149   \n",
       "4    2020-01-01 01:00:00-06:00          10.889562          15.821396   \n",
       "...                        ...                ...                ...   \n",
       "4382 2020-07-01 12:00:00-05:00          17.547250          25.290890   \n",
       "4383 2020-07-01 13:00:00-05:00          14.817381          21.433833   \n",
       "4384 2020-07-01 14:00:00-05:00          12.724690          18.767881   \n",
       "4385 2020-07-01 15:00:00-05:00          12.116529          18.137062   \n",
       "4386 2020-07-01 16:00:00-05:00          11.927857          18.197143   \n",
       "\n",
       "      PM10.0 CF1 (ug/m3)  Temperature (F)  Humidity(%)  PM2.5 (ug/m3)  \n",
       "0              24.328758        60.783980    24.910417      22.238216  \n",
       "1              24.440027        60.939641    25.757608      22.320869  \n",
       "2              13.967271        60.212500    26.606250      12.722563  \n",
       "3              23.292700        59.635781    26.973178      20.804751  \n",
       "4              17.444729        59.489583    27.320833      15.758292  \n",
       "...                  ...              ...          ...            ...  \n",
       "4382           27.664108        93.517077    46.911002      25.194750  \n",
       "4383           23.736190        96.647619    43.111905      21.411405  \n",
       "4384           20.951929        98.030952    41.385714      18.767167  \n",
       "4385           20.352160        99.443268    39.615353      18.128685  \n",
       "4386           20.441429       101.571429    37.214286      18.197143  \n",
       "\n",
       "[4387 rows x 7 columns]"
      ]
     },
     "execution_count": 13,
     "metadata": {},
     "output_type": "execute_result"
    }
   ],
   "source": [
    "data"
   ]
  },
  {
   "cell_type": "code",
   "execution_count": 10,
   "metadata": {},
   "outputs": [
    {
     "data": {
      "text/plain": [
       "<matplotlib.axes._subplots.AxesSubplot at 0x2873bbd4f88>"
      ]
     },
     "execution_count": 10,
     "metadata": {},
     "output_type": "execute_result"
    },
    {
     "data": {
      "image/png": "[encoded data removed]",
      "text/plain": [
       "<Figure size 432x288 with 1 Axes>"
      ]
     },
     "metadata": {
      "needs_background": "light"
     },
     "output_type": "display_data"
    }
   ],
   "source": [
    "data.plot(y='PM2.5 (ug/m3)')"
   ]
  },
  {
   "cell_type": "code",
   "execution_count": 15,
   "metadata": {},
   "outputs": [
    {
     "data": {
      "text/plain": [
       "<matplotlib.axes._subplots.AxesSubplot at 0x19e0d120448>"
      ]
     },
     "execution_count": 15,
     "metadata": {},
     "output_type": "execute_result"
    },
    {
     "data": {
      "image/png": "[encoded data removed]",
      "text/plain": [
       "<Figure size 432x288 with 1 Axes>"
      ]
     },
     "metadata": {
      "needs_background": "light"
     },
     "output_type": "display_data"
    }
   ],
   "source": [
    "data = pd.read_parquet('../data/interim/tceq/CAMS 1068 Nitric Oxide.parquet')\n",
    "data\n",
    "data.plot()"
   ]
  },
  {
   "cell_type": "code",
   "execution_count": null,
   "metadata": {},
   "outputs": [],
   "source": []
  }
 ],
 "metadata": {
  "kernelspec": {
   "display_name": "Python 3",
   "language": "python",
   "name": "python3"
  },
  "language_info": {
   "codemirror_mode": {
    "name": "ipython",
    "version": 3
   },
   "file_extension": ".py",
   "mimetype": "text/x-python",
   "name": "python",
   "nbconvert_exporter": "python",
   "pygments_lexer": "ipython3",
   "version": "3.7.7"
  }
 },
 "nbformat": 4,
 "nbformat_minor": 4
}
