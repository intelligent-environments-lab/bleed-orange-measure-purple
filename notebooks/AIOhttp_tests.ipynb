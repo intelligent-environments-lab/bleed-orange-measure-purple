{
 "cells": [
  {
   "cell_type": "markdown",
   "metadata": {},
   "source": [
    "# AIOHTTP"
   ]
  },
  {
   "cell_type": "markdown",
   "metadata": {},
   "source": [
    "[AIOHTTP](https://docs.aiohttp.org/) is an \"Async HTTP client/server for asyncio and Python\". It allows the user to make multiple simultaneous url requests instead of blocking while waiting for a response in between each request. This means that a user can take full advantage of their bandwidth and significantly speeds up any network requests."
   ]
  },
  {
   "cell_type": "code",
   "execution_count": 20,
   "metadata": {},
   "outputs": [],
   "source": [
    "import aiohttp\n",
    "import asyncio"
   ]
  },
  {
   "cell_type": "markdown",
   "metadata": {},
   "source": [
    "## Nested Event Loops\n",
    "\n",
    "Nest asyncio is needed for using aiohttp in jupyter or spyder, since they both these ides have built-in event loops. Asyncio has it's own event loop, and by default, it will not allow its own loop to be nested inside any other."
   ]
  },
  {
   "cell_type": "code",
   "execution_count": 20,
   "metadata": {},
   "outputs": [],
   "source": [
    "import nest_asyncio\n",
    "nest_asyncio.apply()"
   ]
  },
  {
   "cell_type": "code",
   "execution_count": 21,
   "metadata": {},
   "outputs": [],
   "source": [
    "async def fetch(url, session):\n",
    "    print('One')\n",
    "    async with session.get(url) as resp:\n",
    "        result = await resp.text()\n",
    "    print('Two')\n",
    "    return result\n",
    "\n",
    "async def fetch_async(urls):\n",
    "    tasks = []\n",
    "    async with aiohttp.ClientSession() as session:\n",
    "            for url in urls:\n",
    "                task = asyncio.create_task(fetch(url, session))\n",
    "                tasks.append(task)\n",
    "            responses = await asyncio.gather(*tasks)\n",
    "    return responses"
   ]
  },
  {
   "cell_type": "code",
   "execution_count": 23,
   "metadata": {},
   "outputs": [
    {
     "name": "stdout",
     "output_type": "stream",
     "text": [
      "One\n",
      "One\n",
      "Two\n",
      "Two\n"
     ]
    }
   ],
   "source": [
    "def main():\n",
    "    urls = ['https://google.com', 'https://youtube.com']\n",
    "    \n",
    "    future = asyncio.ensure_future(fetch_async(urls))\n",
    "    loop = asyncio.get_event_loop()\n",
    "    responses = loop.run_until_complete(future)\n",
    "\n",
    "if __name__ == '__main__':\n",
    "    main()"
   ]
  }
 ],
 "metadata": {
  "kernelspec": {
   "display_name": "Python 3",
   "language": "python",
   "name": "python3"
  },
  "language_info": {
   "codemirror_mode": {
    "name": "ipython",
    "version": 3
   },
   "file_extension": ".py",
   "mimetype": "text/x-python",
   "name": "python",
   "nbconvert_exporter": "python",
   "pygments_lexer": "ipython3",
   "version": "3.7.7"
  }
 },
 "nbformat": 4,
 "nbformat_minor": 4
}
