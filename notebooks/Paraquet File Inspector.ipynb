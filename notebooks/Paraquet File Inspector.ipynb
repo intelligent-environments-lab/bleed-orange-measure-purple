{
 "cells": [
  {
   "cell_type": "markdown",
   "metadata": {},
   "source": [
    "# Check Parquet Files"
   ]
  },
  {
   "cell_type": "code",
   "execution_count": 1,
   "metadata": {},
   "outputs": [],
   "source": [
    "import pandas as pd"
   ]
  },
  {
   "cell_type": "code",
   "execution_count": 2,
   "metadata": {},
   "outputs": [],
   "source": [
    "data = pd.read_parquet('../data/interim/purpleair/PA_II_0DA2 (outside) (30.279041 -97.725929) Primary Hourly Average 01_01_2020 06_02_2020.parquet')"
   ]
  },
  {
   "cell_type": "code",
   "execution_count": 8,
   "metadata": {},
   "outputs": [
    {
     "data": {
      "text/html": [
       "<div>\n",
       "<style scoped>\n",
       "    .dataframe tbody tr th:only-of-type {\n",
       "        vertical-align: middle;\n",
       "    }\n",
       "\n",
       "    .dataframe tbody tr th {\n",
       "        vertical-align: top;\n",
       "    }\n",
       "\n",
       "    .dataframe thead th {\n",
       "        text-align: right;\n",
       "    }\n",
       "</style>\n",
       "<table border=\"1\" class=\"dataframe\">\n",
       "  <thead>\n",
       "    <tr style=\"text-align: right;\">\n",
       "      <th></th>\n",
       "      <th>PM1.0 CF1 (ug/m3)</th>\n",
       "      <th>PM2.5 CF1 (ug/m3)</th>\n",
       "      <th>PM10.0 CF1 (ug/m3)</th>\n",
       "      <th>Temperature (F)</th>\n",
       "      <th>Humidity(%)</th>\n",
       "      <th>PM2.5 (ug/m3)</th>\n",
       "    </tr>\n",
       "    <tr>\n",
       "      <th>Time</th>\n",
       "      <th></th>\n",
       "      <th></th>\n",
       "      <th></th>\n",
       "      <th></th>\n",
       "      <th></th>\n",
       "      <th></th>\n",
       "    </tr>\n",
       "  </thead>\n",
       "  <tbody>\n",
       "    <tr>\n",
       "      <th>2019-12-31 21:00:00-06:00</th>\n",
       "      <td>21.517000</td>\n",
       "      <td>30.621000</td>\n",
       "      <td>34.192667</td>\n",
       "      <td>60.166667</td>\n",
       "      <td>26.066667</td>\n",
       "      <td>29.860333</td>\n",
       "    </tr>\n",
       "    <tr>\n",
       "      <th>2019-12-31 22:00:00-06:00</th>\n",
       "      <td>21.733000</td>\n",
       "      <td>30.630667</td>\n",
       "      <td>34.342667</td>\n",
       "      <td>60.166667</td>\n",
       "      <td>26.833333</td>\n",
       "      <td>29.226333</td>\n",
       "    </tr>\n",
       "    <tr>\n",
       "      <th>2019-12-31 23:00:00-06:00</th>\n",
       "      <td>11.370333</td>\n",
       "      <td>16.187667</td>\n",
       "      <td>18.220333</td>\n",
       "      <td>58.333333</td>\n",
       "      <td>28.800000</td>\n",
       "      <td>16.187667</td>\n",
       "    </tr>\n",
       "    <tr>\n",
       "      <th>2020-01-01 00:00:00-06:00</th>\n",
       "      <td>27.070667</td>\n",
       "      <td>38.879000</td>\n",
       "      <td>43.907333</td>\n",
       "      <td>57.633333</td>\n",
       "      <td>29.400000</td>\n",
       "      <td>34.472667</td>\n",
       "    </tr>\n",
       "    <tr>\n",
       "      <th>2020-01-01 01:00:00-06:00</th>\n",
       "      <td>18.670333</td>\n",
       "      <td>27.247667</td>\n",
       "      <td>30.788333</td>\n",
       "      <td>58.066667</td>\n",
       "      <td>28.766667</td>\n",
       "      <td>26.238000</td>\n",
       "    </tr>\n",
       "    <tr>\n",
       "      <th>...</th>\n",
       "      <td>...</td>\n",
       "      <td>...</td>\n",
       "      <td>...</td>\n",
       "      <td>...</td>\n",
       "      <td>...</td>\n",
       "      <td>...</td>\n",
       "    </tr>\n",
       "    <tr>\n",
       "      <th>2020-06-01 12:00:00-05:00</th>\n",
       "      <td>12.767500</td>\n",
       "      <td>17.960714</td>\n",
       "      <td>19.519286</td>\n",
       "      <td>93.285714</td>\n",
       "      <td>42.035714</td>\n",
       "      <td>17.859643</td>\n",
       "    </tr>\n",
       "    <tr>\n",
       "      <th>2020-06-01 13:00:00-05:00</th>\n",
       "      <td>12.516333</td>\n",
       "      <td>17.535667</td>\n",
       "      <td>18.785000</td>\n",
       "      <td>93.000000</td>\n",
       "      <td>42.366667</td>\n",
       "      <td>17.535667</td>\n",
       "    </tr>\n",
       "    <tr>\n",
       "      <th>2020-06-01 14:00:00-05:00</th>\n",
       "      <td>12.673333</td>\n",
       "      <td>17.415667</td>\n",
       "      <td>18.742667</td>\n",
       "      <td>91.500000</td>\n",
       "      <td>43.766667</td>\n",
       "      <td>17.415667</td>\n",
       "    </tr>\n",
       "    <tr>\n",
       "      <th>2020-06-01 15:00:00-05:00</th>\n",
       "      <td>12.616000</td>\n",
       "      <td>17.253667</td>\n",
       "      <td>18.525667</td>\n",
       "      <td>91.066667</td>\n",
       "      <td>43.466667</td>\n",
       "      <td>17.253667</td>\n",
       "    </tr>\n",
       "    <tr>\n",
       "      <th>2020-06-01 16:00:00-05:00</th>\n",
       "      <td>14.420000</td>\n",
       "      <td>18.910000</td>\n",
       "      <td>20.380000</td>\n",
       "      <td>91.000000</td>\n",
       "      <td>45.000000</td>\n",
       "      <td>18.910000</td>\n",
       "    </tr>\n",
       "  </tbody>\n",
       "</table>\n",
       "<p>3667 rows × 6 columns</p>\n",
       "</div>"
      ],
      "text/plain": [
       "                           PM1.0 CF1 (ug/m3)  PM2.5 CF1 (ug/m3)  \\\n",
       "Time                                                              \n",
       "2019-12-31 21:00:00-06:00          21.517000          30.621000   \n",
       "2019-12-31 22:00:00-06:00          21.733000          30.630667   \n",
       "2019-12-31 23:00:00-06:00          11.370333          16.187667   \n",
       "2020-01-01 00:00:00-06:00          27.070667          38.879000   \n",
       "2020-01-01 01:00:00-06:00          18.670333          27.247667   \n",
       "...                                      ...                ...   \n",
       "2020-06-01 12:00:00-05:00          12.767500          17.960714   \n",
       "2020-06-01 13:00:00-05:00          12.516333          17.535667   \n",
       "2020-06-01 14:00:00-05:00          12.673333          17.415667   \n",
       "2020-06-01 15:00:00-05:00          12.616000          17.253667   \n",
       "2020-06-01 16:00:00-05:00          14.420000          18.910000   \n",
       "\n",
       "                           PM10.0 CF1 (ug/m3)  Temperature (F)  Humidity(%)  \\\n",
       "Time                                                                          \n",
       "2019-12-31 21:00:00-06:00           34.192667        60.166667    26.066667   \n",
       "2019-12-31 22:00:00-06:00           34.342667        60.166667    26.833333   \n",
       "2019-12-31 23:00:00-06:00           18.220333        58.333333    28.800000   \n",
       "2020-01-01 00:00:00-06:00           43.907333        57.633333    29.400000   \n",
       "2020-01-01 01:00:00-06:00           30.788333        58.066667    28.766667   \n",
       "...                                       ...              ...          ...   \n",
       "2020-06-01 12:00:00-05:00           19.519286        93.285714    42.035714   \n",
       "2020-06-01 13:00:00-05:00           18.785000        93.000000    42.366667   \n",
       "2020-06-01 14:00:00-05:00           18.742667        91.500000    43.766667   \n",
       "2020-06-01 15:00:00-05:00           18.525667        91.066667    43.466667   \n",
       "2020-06-01 16:00:00-05:00           20.380000        91.000000    45.000000   \n",
       "\n",
       "                           PM2.5 (ug/m3)  \n",
       "Time                                      \n",
       "2019-12-31 21:00:00-06:00      29.860333  \n",
       "2019-12-31 22:00:00-06:00      29.226333  \n",
       "2019-12-31 23:00:00-06:00      16.187667  \n",
       "2020-01-01 00:00:00-06:00      34.472667  \n",
       "2020-01-01 01:00:00-06:00      26.238000  \n",
       "...                                  ...  \n",
       "2020-06-01 12:00:00-05:00      17.859643  \n",
       "2020-06-01 13:00:00-05:00      17.535667  \n",
       "2020-06-01 14:00:00-05:00      17.415667  \n",
       "2020-06-01 15:00:00-05:00      17.253667  \n",
       "2020-06-01 16:00:00-05:00      18.910000  \n",
       "\n",
       "[3667 rows x 6 columns]"
      ]
     },
     "execution_count": 8,
     "metadata": {},
     "output_type": "execute_result"
    }
   ],
   "source": [
    "data"
   ]
  },
  {
   "cell_type": "code",
   "execution_count": 13,
   "metadata": {},
   "outputs": [
    {
     "data": {
      "text/plain": [
       "<matplotlib.axes._subplots.AxesSubplot at 0x19e09c8a388>"
      ]
     },
     "execution_count": 13,
     "metadata": {},
     "output_type": "execute_result"
    },
    {
     "data": {
      "image/png": "[encoded data removed]",
      "text/plain": [
       "<Figure size 432x288 with 1 Axes>"
      ]
     },
     "metadata": {
      "needs_background": "light"
     },
     "output_type": "display_data"
    }
   ],
   "source": [
    "data.plot(y='PM2.5 (ug/m3)')"
   ]
  },
  {
   "cell_type": "code",
   "execution_count": 15,
   "metadata": {},
   "outputs": [
    {
     "data": {
      "text/plain": [
       "<matplotlib.axes._subplots.AxesSubplot at 0x19e0d120448>"
      ]
     },
     "execution_count": 15,
     "metadata": {},
     "output_type": "execute_result"
    },
    {
     "data": {
      "image/png": "[encoded data removed]",
      "text/plain": [
       "<Figure size 432x288 with 1 Axes>"
      ]
     },
     "metadata": {
      "needs_background": "light"
     },
     "output_type": "display_data"
    }
   ],
   "source": [
    "data = pd.read_parquet('../data/interim/tceq/CAMS 1068 Nitric Oxide.parquet')\n",
    "data\n",
    "data.plot()"
   ]
  },
  {
   "cell_type": "code",
   "execution_count": null,
   "metadata": {},
   "outputs": [],
   "source": []
  }
 ],
 "metadata": {
  "kernelspec": {
   "display_name": "Python 3",
   "language": "python",
   "name": "python3"
  },
  "language_info": {
   "codemirror_mode": {
    "name": "ipython",
    "version": 3
   },
   "file_extension": ".py",
   "mimetype": "text/x-python",
   "name": "python",
   "nbconvert_exporter": "python",
   "pygments_lexer": "ipython3",
   "version": "3.7.7"
  }
 },
 "nbformat": 4,
 "nbformat_minor": 4
}
